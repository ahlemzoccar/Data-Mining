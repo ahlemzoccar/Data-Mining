{
  "nbformat": 4,
  "nbformat_minor": 0,
  "metadata": {
    "colab": {
      "name": "HouseToRent.ipynb",
      "provenance": []
    },
    "kernelspec": {
      "name": "python3",
      "display_name": "Python 3"
    }
  },
  "cells": [
    {
      "cell_type": "code",
      "metadata": {
        "id": "1dkJ3kWgT-AU",
        "colab": {
          "base_uri": "https://localhost:8080/",
          "height": 293
        },
        "outputId": "0c8828e7-424e-4eb8-d45e-e7463dc91838"
      },
      "source": [
        "import pandas as pd\r\n",
        "data1=pd.read_csv(\"houses_to_rent_v2.csv\")\r\n",
        "data1.head()"
      ],
      "execution_count": 6,
      "outputs": [
        {
          "output_type": "execute_result",
          "data": {
            "text/html": [
              "<div>\n",
              "<style scoped>\n",
              "    .dataframe tbody tr th:only-of-type {\n",
              "        vertical-align: middle;\n",
              "    }\n",
              "\n",
              "    .dataframe tbody tr th {\n",
              "        vertical-align: top;\n",
              "    }\n",
              "\n",
              "    .dataframe thead th {\n",
              "        text-align: right;\n",
              "    }\n",
              "</style>\n",
              "<table border=\"1\" class=\"dataframe\">\n",
              "  <thead>\n",
              "    <tr style=\"text-align: right;\">\n",
              "      <th></th>\n",
              "      <th>city</th>\n",
              "      <th>area</th>\n",
              "      <th>rooms</th>\n",
              "      <th>bathroom</th>\n",
              "      <th>parking spaces</th>\n",
              "      <th>floor</th>\n",
              "      <th>animal</th>\n",
              "      <th>furniture</th>\n",
              "      <th>hoa (R$)</th>\n",
              "      <th>rent amount (R$)</th>\n",
              "      <th>property tax (R$)</th>\n",
              "      <th>fire insurance (R$)</th>\n",
              "      <th>total (R$)</th>\n",
              "    </tr>\n",
              "  </thead>\n",
              "  <tbody>\n",
              "    <tr>\n",
              "      <th>0</th>\n",
              "      <td>São Paulo</td>\n",
              "      <td>70</td>\n",
              "      <td>2</td>\n",
              "      <td>1</td>\n",
              "      <td>1</td>\n",
              "      <td>7</td>\n",
              "      <td>acept</td>\n",
              "      <td>furnished</td>\n",
              "      <td>2065</td>\n",
              "      <td>3300</td>\n",
              "      <td>211</td>\n",
              "      <td>42</td>\n",
              "      <td>5618</td>\n",
              "    </tr>\n",
              "    <tr>\n",
              "      <th>1</th>\n",
              "      <td>São Paulo</td>\n",
              "      <td>320</td>\n",
              "      <td>4</td>\n",
              "      <td>4</td>\n",
              "      <td>0</td>\n",
              "      <td>20</td>\n",
              "      <td>acept</td>\n",
              "      <td>not furnished</td>\n",
              "      <td>1200</td>\n",
              "      <td>4960</td>\n",
              "      <td>1750</td>\n",
              "      <td>63</td>\n",
              "      <td>7973</td>\n",
              "    </tr>\n",
              "    <tr>\n",
              "      <th>2</th>\n",
              "      <td>Porto Alegre</td>\n",
              "      <td>80</td>\n",
              "      <td>1</td>\n",
              "      <td>1</td>\n",
              "      <td>1</td>\n",
              "      <td>6</td>\n",
              "      <td>acept</td>\n",
              "      <td>not furnished</td>\n",
              "      <td>1000</td>\n",
              "      <td>2800</td>\n",
              "      <td>0</td>\n",
              "      <td>41</td>\n",
              "      <td>3841</td>\n",
              "    </tr>\n",
              "    <tr>\n",
              "      <th>3</th>\n",
              "      <td>Porto Alegre</td>\n",
              "      <td>51</td>\n",
              "      <td>2</td>\n",
              "      <td>1</td>\n",
              "      <td>0</td>\n",
              "      <td>2</td>\n",
              "      <td>acept</td>\n",
              "      <td>not furnished</td>\n",
              "      <td>270</td>\n",
              "      <td>1112</td>\n",
              "      <td>22</td>\n",
              "      <td>17</td>\n",
              "      <td>1421</td>\n",
              "    </tr>\n",
              "    <tr>\n",
              "      <th>4</th>\n",
              "      <td>São Paulo</td>\n",
              "      <td>25</td>\n",
              "      <td>1</td>\n",
              "      <td>1</td>\n",
              "      <td>0</td>\n",
              "      <td>1</td>\n",
              "      <td>not acept</td>\n",
              "      <td>not furnished</td>\n",
              "      <td>0</td>\n",
              "      <td>800</td>\n",
              "      <td>25</td>\n",
              "      <td>11</td>\n",
              "      <td>836</td>\n",
              "    </tr>\n",
              "  </tbody>\n",
              "</table>\n",
              "</div>"
            ],
            "text/plain": [
              "           city  area  ...  fire insurance (R$)  total (R$)\n",
              "0     São Paulo    70  ...                   42        5618\n",
              "1     São Paulo   320  ...                   63        7973\n",
              "2  Porto Alegre    80  ...                   41        3841\n",
              "3  Porto Alegre    51  ...                   17        1421\n",
              "4     São Paulo    25  ...                   11         836\n",
              "\n",
              "[5 rows x 13 columns]"
            ]
          },
          "metadata": {
            "tags": []
          },
          "execution_count": 6
        }
      ]
    },
    {
      "cell_type": "code",
      "metadata": {
        "id": "ILEqFd37fptQ"
      },
      "source": [
        "data1['city'] = pd.factorize(data1['city'])[0]\r\n",
        "data1['furniture'] = pd.factorize(data1['furniture'])[0]\r\n",
        "data1['animal'] = pd.factorize(data1['animal'])[0]\r\n"
      ],
      "execution_count": 14,
      "outputs": []
    },
    {
      "cell_type": "code",
      "metadata": {
        "colab": {
          "base_uri": "https://localhost:8080/"
        },
        "id": "SGi2vMqPf84J",
        "outputId": "f00dea08-3b4a-44cb-f3e9-c8ca4fbf3b30"
      },
      "source": [
        "import numpy as np\r\n",
        "data1=data1[data1.floor.apply(lambda x: x.isnumeric())]\r\n",
        "print(data1.shape)"
      ],
      "execution_count": 15,
      "outputs": [
        {
          "output_type": "stream",
          "text": [
            "(8231, 13)\n"
          ],
          "name": "stdout"
        }
      ]
    },
    {
      "cell_type": "code",
      "metadata": {
        "colab": {
          "base_uri": "https://localhost:8080/"
        },
        "id": "wdS9ctSwgMwi",
        "outputId": "fae6a732-649b-497b-ff18-44f67b246fd5"
      },
      "source": [
        "X_data=data1.iloc[:,:-1]\r\n",
        "Y_data=data1.iloc[:,-1]\r\n",
        "Xtrain=data1.iloc[:7000,:-1]\r\n",
        "Xtest=data1.iloc[7000:,:-1]\r\n",
        "Ytrain=data1.iloc[:7000,-1]\r\n",
        "Ytest=data1.iloc[7000:,-1]\r\n",
        "data_train=data1.iloc[:7000]\r\n",
        "print(Xtrain.shape)"
      ],
      "execution_count": 16,
      "outputs": [
        {
          "output_type": "stream",
          "text": [
            "(7000, 12)\n"
          ],
          "name": "stdout"
        }
      ]
    },
    {
      "cell_type": "code",
      "metadata": {
        "id": "FBYAh6MSg_SM"
      },
      "source": [
        "from sklearn.linear_model import LinearRegression\r\n",
        "lm=LinearRegression()\r\n",
        "model = lm.fit(Xtrain,Ytrain)\r\n",
        "predictions = model.predict(Xtest)"
      ],
      "execution_count": 17,
      "outputs": []
    },
    {
      "cell_type": "code",
      "metadata": {
        "colab": {
          "base_uri": "https://localhost:8080/"
        },
        "id": "oNcZnsY1hXBF",
        "outputId": "278c014d-2f95-44d9-c72d-3347458aea5b"
      },
      "source": [
        "from sklearn.metrics import mean_squared_error, r2_score\r\n",
        "print(\"Mean squared error: %.2f\"\r\n",
        "       % mean_squared_error(Ytest,predictions ))\r\n",
        "print('Variance score: %.2f' % r2_score(Ytest,predictions))"
      ],
      "execution_count": 18,
      "outputs": [
        {
          "output_type": "stream",
          "text": [
            "Mean squared error: 1.56\n",
            "Variance score: 1.00\n"
          ],
          "name": "stdout"
        }
      ]
    },
    {
      "cell_type": "code",
      "metadata": {
        "colab": {
          "base_uri": "https://localhost:8080/",
          "height": 265
        },
        "id": "rUsR5fReiEcC",
        "outputId": "3fd38344-e5d9-4290-aadd-fed69b17afe3"
      },
      "source": [
        "import matplotlib.pyplot as plt\r\n",
        "plt.scatter(Xtest.iloc[:,11], Ytest, color='gray')\r\n",
        "plt.scatter(Xtest.iloc[:,11],predictions, color='red', linewidth=2)\r\n",
        "plt.show()"
      ],
      "execution_count": 19,
      "outputs": [
        {
          "output_type": "display_data",
          "data": {
            "image/png": "[encoded data removed]",
            "text/plain": [
              "<Figure size 432x288 with 1 Axes>"
            ]
          },
          "metadata": {
            "tags": [],
            "needs_background": "light"
          }
        }
      ]
    },
    {
      "cell_type": "code",
      "metadata": {
        "colab": {
          "base_uri": "https://localhost:8080/"
        },
        "id": "sREvHCBgiouE",
        "outputId": "ec081af9-5ca8-4d00-ca44-9a35a224738f"
      },
      "source": [
        "import statsmodels.formula.api\r\n",
        "A00=Xtrain.iloc[:,0]\r\n",
        "A0=Xtrain.iloc[:,1]\r\n",
        "A=Xtrain.iloc[:,2]\r\n",
        "B=Xtrain.iloc[:,3]\r\n",
        "C=Xtrain.iloc[:,4]\r\n",
        "D=Xtrain.iloc[:,5]\r\n",
        "E=Xtrain.iloc[:,6]\r\n",
        "F=Xtrain.iloc[:,7]\r\n",
        "G=Xtrain.iloc[:,8]\r\n",
        "H=Xtrain.iloc[:,9]\r\n",
        "I=Xtrain.iloc[:,10]\r\n",
        "J=Xtrain.iloc[:,11]"
      ],
      "execution_count": 20,
      "outputs": [
        {
          "output_type": "stream",
          "text": [
            "/usr/local/lib/python3.6/dist-packages/statsmodels/tools/_testing.py:19: FutureWarning: pandas.util.testing is deprecated. Use the functions in the public API at pandas.testing instead.\n",
            "  import pandas.util.testing as tm\n"
          ],
          "name": "stderr"
        }
      ]
    },
    {
      "cell_type": "code",
      "metadata": {
        "id": "IxqpuFceuh2u"
      },
      "source": [
        "fit1= statsmodels.formula.api.ols('Ytrain ~ A00+ A0+ A+ B+ C+ D+ E+ F+ G+ H+ I+ J', data= data_train).fit()\r\n",
        "import statsmodels.api\r\n",
        "table = statsmodels.api.stats.anova_lm(fit1)"
      ],
      "execution_count": 26,
      "outputs": []
    },
    {
      "cell_type": "code",
      "metadata": {
        "colab": {
          "base_uri": "https://localhost:8080/"
        },
        "id": "oRa6_P4OuHgs",
        "outputId": "942127c8-084c-4cf8-f44b-3610e8b37409"
      },
      "source": [
        "print(fit1.summary())"
      ],
      "execution_count": 27,
      "outputs": [
        {
          "output_type": "stream",
          "text": [
            "                            OLS Regression Results                            \n",
            "==============================================================================\n",
            "Dep. Variable:                 Ytrain   R-squared:                       1.000\n",
            "Model:                            OLS   Adj. R-squared:                  1.000\n",
            "Method:                 Least Squares   F-statistic:                 1.136e+09\n",
            "Date:                Fri, 01 Jan 2021   Prob (F-statistic):               0.00\n",
            "Time:                        16:16:34   Log-Likelihood:                -24032.\n",
            "No. Observations:                7000   AIC:                         4.815e+04\n",
            "Df Residuals:                    6955   BIC:                         4.846e+04\n",
            "Df Model:                          44                                         \n",
            "Covariance Type:            nonrobust                                         \n",
            "==============================================================================\n",
            "                 coef    std err          t      P>|t|      [0.025      0.975]\n",
            "------------------------------------------------------------------------------\n",
            "Intercept      0.5374      0.366      1.469      0.142      -0.180       1.255\n",
            "D[T.10]       -0.5707      0.493     -1.158      0.247      -1.537       0.396\n",
            "D[T.11]       -0.6334      0.543     -1.167      0.243      -1.698       0.431\n",
            "D[T.12]       -0.5021      0.568     -0.884      0.377      -1.616       0.611\n",
            "D[T.13]       -0.6411      0.635     -1.009      0.313      -1.886       0.604\n",
            "D[T.14]       -0.5166      0.675     -0.765      0.444      -1.840       0.807\n",
            "D[T.15]       -0.5070      0.716     -0.708      0.479      -1.911       0.897\n",
            "D[T.16]       -0.5773      0.843     -0.685      0.493      -2.230       1.075\n",
            "D[T.17]       -0.7038      0.888     -0.793      0.428      -2.444       1.037\n",
            "D[T.18]       -0.4898      0.949     -0.516      0.606      -2.351       1.371\n",
            "D[T.19]       -0.6972      1.131     -0.617      0.538      -2.914       1.519\n",
            "D[T.2]        -0.1553      0.362     -0.430      0.668      -0.864       0.554\n",
            "D[T.20]       -0.5113      1.235     -0.414      0.679      -2.932       1.909\n",
            "D[T.21]       -0.5348      1.339     -0.399      0.690      -3.160       2.090\n",
            "D[T.22]        0.0590      1.795      0.033      0.974      -3.460       3.578\n",
            "D[T.23]       -0.6950      1.591     -0.437      0.662      -3.814       2.424\n",
            "D[T.24]       -0.1707      1.843     -0.093      0.926      -3.784       3.442\n",
            "D[T.25]       -0.3342      1.627     -0.205      0.837      -3.523       2.855\n",
            "D[T.26]       -0.3999      1.795     -0.223      0.824      -3.918       3.118\n",
            "D[T.27]       -0.2879      3.086     -0.093      0.926      -6.337       5.761\n",
            "D[T.28]       -0.6679      3.380     -0.198      0.843      -7.293       5.957\n",
            "D[T.29]       -0.2851      3.379     -0.084      0.933      -6.909       6.338\n",
            "D[T.3]        -0.4244      0.366     -1.159      0.246      -1.142       0.293\n",
            "D[T.301]      -0.4600      7.526     -0.061      0.951     -15.213      14.293\n",
            "D[T.32]       -0.4165      7.528     -0.055      0.956     -15.173      14.340\n",
            "D[T.35]        4.5198      7.538      0.600      0.549     -10.256      19.296\n",
            "D[T.4]        -0.0089      0.387     -0.023      0.982      -0.767       0.750\n",
            "D[T.46]        2.0294      7.530      0.270      0.788     -12.731      16.790\n",
            "D[T.5]        -0.5607      0.418     -1.342      0.180      -1.380       0.258\n",
            "D[T.51]       -0.6086      7.525     -0.081      0.936     -15.360      14.143\n",
            "D[T.6]        -0.6179      0.430     -1.438      0.150      -1.460       0.224\n",
            "D[T.7]        -0.5670      0.443     -1.280      0.201      -1.436       0.301\n",
            "D[T.8]        -0.5720      0.448     -1.276      0.202      -1.451       0.307\n",
            "D[T.9]        -0.5700      0.491     -1.162      0.245      -1.532       0.392\n",
            "A00           -0.0441      0.068     -0.645      0.519      -0.178       0.090\n",
            "A0          2.844e-05      0.000      0.196      0.844      -0.000       0.000\n",
            "A             -0.0917      0.135     -0.681      0.496      -0.355       0.172\n",
            "B              0.1100      0.133      0.830      0.407      -0.150       0.370\n",
            "C             -0.0430      0.114     -0.377      0.706      -0.267       0.181\n",
            "E             -0.2096      0.219     -0.956      0.339      -0.639       0.220\n",
            "F              0.1913      0.213      0.897      0.370      -0.227       0.609\n",
            "G              1.0001    4.7e-06   2.13e+05      0.000       1.000       1.000\n",
            "H              1.0000      0.000   3349.046      0.000       0.999       1.001\n",
            "I              0.9999   2.38e-05    4.2e+04      0.000       1.000       1.000\n",
            "J              0.9965      0.023     42.944      0.000       0.951       1.042\n",
            "==============================================================================\n",
            "Omnibus:                    20966.263   Durbin-Watson:                   1.992\n",
            "Prob(Omnibus):                  0.000   Jarque-Bera (JB):       1180810738.177\n",
            "Skew:                          43.509   Prob(JB):                         0.00\n",
            "Kurtosis:                    2013.204   Cond. No.                     1.62e+06\n",
            "==============================================================================\n",
            "\n",
            "Warnings:\n",
            "[1] Standard Errors assume that the covariance matrix of the errors is correctly specified.\n",
            "[2] The condition number is large, 1.62e+06. This might indicate that there are\n",
            "strong multicollinearity or other numerical problems.\n"
          ],
          "name": "stdout"
        }
      ]
    },
    {
      "cell_type": "code",
      "metadata": {
        "id": "gkYayONLjl-E"
      },
      "source": [
        "model_norm_residuals = fit1.get_influence().resid_studentized_internal\r\n",
        "from statsmodels.graphics.gofplots import ProbPlot\r\n",
        "QQ = ProbPlot(model_norm_residuals)\r\n",
        "plot_lm_2 = QQ.qqplot(line='45', alpha=0.5, color='#4C72B0' , lw=1)\r\n",
        "plot_lm_2.axes[0].set_title('Normal Q-Q')\r\n",
        "plot_lm_2.axes[0].set_xlabel('Theoretical Quantiles')\r\n",
        "plot_lm_2.axes[0].set_ylabel('Standardized Residuals');\r\n",
        "\r\n",
        "abs_norm_resid = np.flip(np.argsort(np.abs(model_norm_residuals)),0)\r\n",
        "abs_norm_resid_top_3 = abs_norm_resid[:3]\r\n",
        "for r,i in enumerate(abs_norm_resid_top_3):\r\n",
        "    plot_lm_2.axes[0].annotate(i,\r\n",
        "                               xy=(np.flip(QQ.theoretical_quantiles, 0)[r],\r\n",
        "                                   model_norm_residuals[i]));\r\n",
        "plt.show()"
      ],
      "execution_count": null,
      "outputs": []
    },
    {
      "cell_type": "code",
      "metadata": {
        "colab": {
          "base_uri": "https://localhost:8080/",
          "height": 195
        },
        "id": "-eefoWx2leX8",
        "outputId": "b3fab540-fef1-4152-a93b-4b75fc01f3b7"
      },
      "source": [
        "import seaborn as sns\r\n",
        "model_fitted_y = fit1.fittedvalues\r\n",
        "print(len(model_fitted_y))\r\n",
        "model_residuals=fit1.resid\r\n",
        "fig = plt.figure()\r\n",
        "ax1 = fig.add_subplot(211)\r\n",
        "ax1.set_ylabel('residuals')\r\n",
        "ax1.set_xlabel('fitted')\r\n",
        "ax1.set_title('residuals VS fitted')\r\n",
        "plt.scatter(model_fitted_y,model_residuals)\r\n",
        "plt.show()"
      ],
      "execution_count": 32,
      "outputs": [
        {
          "output_type": "stream",
          "text": [
            "7000\n"
          ],
          "name": "stdout"
        },
        {
          "output_type": "display_data",
          "data": {
            "image/png": "[encoded data removed]",
            "text/plain": [
              "<Figure size 432x288 with 1 Axes>"
            ]
          },
          "metadata": {
            "tags": [],
            "needs_background": "light"
          }
        }
      ]
    },
    {
      "cell_type": "code",
      "metadata": {
        "colab": {
          "base_uri": "https://localhost:8080/",
          "height": 214
        },
        "id": "7x-vEHyjmLmn",
        "outputId": "4274f3da-526d-460d-d177-2eeeaf87ba31"
      },
      "source": [
        "model_cooks = fit1.get_influence().cooks_distance[0]\r\n",
        "model_residuals = fit1.resid\r\n",
        "fig = plt.figure()\r\n",
        "ax1 = fig.add_subplot(211)\r\n",
        "ax1.set_ylabel('cook distance')\r\n",
        "ax1.set_xlabel('residuals')\r\n",
        "ax1.set_title('residuals VS cookdistance')\r\n",
        "plt.scatter(model_residuals,model_cooks)\r\n",
        "plt.show()\r\n"
      ],
      "execution_count": 31,
      "outputs": [
        {
          "output_type": "stream",
          "text": [
            "/usr/local/lib/python3.6/dist-packages/statsmodels/stats/outliers_influence.py:695: RuntimeWarning: invalid value encountered in sqrt\n",
            "  return self.resid / sigma / np.sqrt(1 - hii)\n"
          ],
          "name": "stderr"
        },
        {
          "output_type": "display_data",
          "data": {
            "image/png": "[encoded data removed]",
            "text/plain": [
              "<Figure size 432x288 with 1 Axes>"
            ]
          },
          "metadata": {
            "tags": [],
            "needs_background": "light"
          }
        }
      ]
    }
  ]
}